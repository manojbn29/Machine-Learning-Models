{
 "cells": [
  {
   "cell_type": "markdown",
   "id": "universal-expansion",
   "metadata": {},
   "source": [
    "Refer this link : https://www.kaggle.com/mrisdal/dimensionality-reduction-with-umap-on-mnist?select=test.csv"
   ]
  },
  {
   "cell_type": "markdown",
   "id": "funded-still",
   "metadata": {},
   "source": [
    "To know more about umap read this kaggle page: https://github.com/lmcinnes/umap"
   ]
  }
 ],
 "metadata": {
  "kernelspec": {
   "display_name": "Python 3",
   "language": "python",
   "name": "python3"
  },
  "language_info": {
   "codemirror_mode": {
    "name": "ipython",
    "version": 3
   },
   "file_extension": ".py",
   "mimetype": "text/x-python",
   "name": "python",
   "nbconvert_exporter": "python",
   "pygments_lexer": "ipython3",
   "version": "3.8.6"
  }
 },
 "nbformat": 4,
 "nbformat_minor": 5
}
